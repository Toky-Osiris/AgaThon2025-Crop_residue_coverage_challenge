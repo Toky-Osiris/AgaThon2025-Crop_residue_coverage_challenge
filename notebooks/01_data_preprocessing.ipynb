{
 "cells": [
  {
   "cell_type": "markdown",
   "metadata": {},
   "source": [
    "Transform data into COCO Json file format\n"
   ]
  },
  {
   "cell_type": "code",
   "execution_count": null,
   "metadata": {},
   "outputs": [],
   "source": [
    "import os\n",
    "import cv2\n",
    "import json\n",
    "import numpy as np\n",
    "from matplotlib import pyplot as plt\n",
    "from pycocotools import mask\n",
    "from tqdm import tqdm "
   ]
  },
  {
   "cell_type": "code",
   "execution_count": null,
   "metadata": {},
   "outputs": [
    {
     "name": "stdout",
     "output_type": "stream",
     "text": [
      "563\n"
     ]
    },
    {
     "name": "stderr",
     "output_type": "stream",
     "text": [
      "Processing masks:  48%|████▊     | 272/563 [00:02<00:01, 179.05it/s]"
     ]
    },
    {
     "name": "stdout",
     "output_type": "stream",
     "text": [
      "Warning: No corresponding image for IMG_0808_part07.tif\n"
     ]
    },
    {
     "name": "stderr",
     "output_type": "stream",
     "text": [
      "Processing masks:  59%|█████▊    | 330/563 [00:02<00:01, 119.68it/s]"
     ]
    },
    {
     "name": "stdout",
     "output_type": "stream",
     "text": [
      "Warning: No corresponding image for IMG_0813_part02.tif\n",
      "Warning: No corresponding image for IMG_0813_part03.tif\n",
      "Warning: No corresponding image for IMG_0813_part08.tif\n"
     ]
    },
    {
     "name": "stderr",
     "output_type": "stream",
     "text": [
      "Processing masks: 100%|██████████| 563/563 [00:04<00:00, 119.55it/s]\n"
     ]
    },
    {
     "name": "stdout",
     "output_type": "stream",
     "text": [
      "✅ COCO JSON saved at C:\\Users\\t.andriamihajasoa\\AgaThon2025-Crop_residue_coverage_challenge\\AgaThon2025-Crop_residue_coverage_challenge\\data\\raw\\instances.json\n"
     ]
    }
   ],
   "source": [
    "def generate_coco_json_from_masks(mask_dir, image_dir, output_json, category_name=\"object\"):\n",
    "    \"\"\"\n",
    "    Generates a COCO JSON file from binary masks with progress tracking.\n",
    "    Args:\n",
    "    - mask_dir (str): Path to the directory containing binary mask images.\n",
    "    - image_dir (str): Path to the directory containing the original images (with .jpg or .tif format).\n",
    "    - output_json (str): Path to save the generated COCO JSON file.\n",
    "    - category_name (str): Name of the object class (default \"object\").\n",
    "    \n",
    "    Returns:\n",
    "    - None (The function writes the COCO JSON file to disk).\n",
    "    \"\"\"\n",
    "    # Initialize COCO JSON structure\n",
    "    coco_data = {\n",
    "        \"info\": {\"description\": \"Custom Dataset for Mask R-CNN\", \"version\": \"1.0\", \"year\": 2025},\n",
    "        \"licenses\": [],\n",
    "        \"images\": [],\n",
    "        \"annotations\": [],\n",
    "        \"categories\": [{\"id\": 1, \"name\": category_name, \"supercategory\": \"none\"}]  # Single class\n",
    "    }\n",
    "\n",
    "    # Initialize annotation counters\n",
    "    image_id = 0\n",
    "    annotation_id = 0\n",
    "\n",
    "    # Get the list of mask files from the mask directory\n",
    "    mask_files = [f for f in os.listdir(mask_dir) if f.endswith(\".tif\")]\n",
    "    print(len(mask_files))\n",
    "    # Process each mask and image\n",
    "    for filename in tqdm(mask_files, desc=\"Processing masks\"):\n",
    "        mask_path = os.path.join(mask_dir, filename)\n",
    "        img_filename = filename.replace(\".tif\", \".jpg\") \n",
    "        img_path = os.path.join(image_dir, img_filename)\n",
    "\n",
    "        # Skip if no corresponding image is found\n",
    "        if not os.path.exists(img_path):\n",
    "            print(f\"Warning: No corresponding image for {filename}\")\n",
    "            continue\n",
    "\n",
    "        # Read mask image (binary: 1 for object, 0 for background)\n",
    "        mask_img = cv2.imread(mask_path, cv2.IMREAD_GRAYSCALE)\n",
    "\n",
    "        # Ensure the mask is binary (0 or 1, 1 for object)\n",
    "        mask_img = (mask_img > 0).astype(np.uint8)\n",
    "\n",
    "        # Check if the mask is non-empty\n",
    "        if np.sum(mask_img) == 0:\n",
    "            print(f\"Warning: Empty mask for {filename}\")\n",
    "            continue\n",
    "\n",
    "        # Find contours (objects) in the mask\n",
    "        contours, _ = cv2.findContours(mask_img, cv2.RETR_EXTERNAL, cv2.CHAIN_APPROX_SIMPLE)\n",
    "\n",
    "        # Get image dimensions (width, height)\n",
    "        height, width = mask_img.shape\n",
    "\n",
    "        # Add image info to COCO JSON (file name replaced with .jpg)\n",
    "        coco_data[\"images\"].append({\n",
    "            \"id\": image_id,\n",
    "            \"file_name\": img_filename,\n",
    "            \"width\": width,\n",
    "            \"height\": height\n",
    "        })\n",
    "        # Add annotations for each object in the mask\n",
    "        for contour in contours:\n",
    "            if len(contour) < 3:  # Skip small contours\n",
    "                continue\n",
    "\n",
    "            # Create polygon from contour (flattened list of coordinates)\n",
    "            segmentation = contour.flatten().tolist()\n",
    "\n",
    "            # Create bounding box for the object\n",
    "            x, y, w, h = cv2.boundingRect(contour)\n",
    "            bbox = [x, y, w, h]\n",
    "\n",
    "            # Add annotation for each object\n",
    "            coco_data[\"annotations\"].append({\n",
    "                \"id\": annotation_id,\n",
    "                \"image_id\": image_id,\n",
    "                \"category_id\": 1,  # Assuming only one class\n",
    "                \"segmentation\": [segmentation],  # COCO requires nested list for segmentation\n",
    "                \"bbox\": bbox,\n",
    "                \"iscrowd\": 0,  # No crowd\n",
    "                \"area\": w * h  # Area of bounding box\n",
    "            })\n",
    "\n",
    "            annotation_id += 1\n",
    "\n",
    "        image_id += 1\n",
    "\n",
    "    # Save the COCO JSON with progress tracking\n",
    "    with open(output_json, \"w\") as f:\n",
    "        json.dump(coco_data, f, indent=4)\n",
    "\n",
    "    print(f\"✅ COCO JSON saved at {output_json}\")\n",
    "\n",
    "mask_dir=r'data\\raw\\masks'\n",
    "image_dir=r'data\\raw\\original'    \n",
    "\n",
    "generate_coco_json_from_masks(mask_dir, image_dir, r'data\\raw\\instances.json', category_name=\"residue\")"
   ]
  }
 ],
 "metadata": {
  "kernelspec": {
   "display_name": "pytorch_env",
   "language": "python",
   "name": "python3"
  },
  "language_info": {
   "codemirror_mode": {
    "name": "ipython",
    "version": 3
   },
   "file_extension": ".py",
   "mimetype": "text/x-python",
   "name": "python",
   "nbconvert_exporter": "python",
   "pygments_lexer": "ipython3",
   "version": "3.11.8"
  }
 },
 "nbformat": 4,
 "nbformat_minor": 2
}
