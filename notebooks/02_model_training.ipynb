{
 "cells": [
  {
   "cell_type": "code",
   "execution_count": null,
   "metadata": {
    "id": "JiektZnVw9Co"
   },
   "outputs": [],
   "source": [
    "import cv2\n",
    "import os\n",
    "import matplotlib.pyplot as plt\n",
    "import numpy as np\n",
    "from pycocotools.coco import COCO\n",
    "from PIL import Image\n",
    "import torch\n",
    "import torchvision\n",
    "from torchvision.models.detection.faster_rcnn import FastRCNNPredictor\n",
    "from torchvision.models.detection.mask_rcnn import MaskRCNNPredictor\n",
    "from torchvision.models.detection import maskrcnn_resnet50_fpn\n",
    "import torchvision.transforms as transforms\n",
    "from torch.utils.data import Dataset, DataLoader, random_split\n",
    "from torchvision.ops import box_iou\n",
    "from tqdm import tqdm\n",
    "import seaborn as sns"
   ]
  },
  {
   "cell_type": "markdown",
   "metadata": {
    "id": "6mwCfnv_xZOg"
   },
   "source": [
    "Creating a custom COCO Dataset from our annotation file and images..."
   ]
  },
  {
   "cell_type": "code",
   "execution_count": null,
   "metadata": {
    "id": "l_gou14Axn0V"
   },
   "outputs": [],
   "source": [
    "# Create a Custom COCO Dataset with Missing File Handling\n",
    "class CustomCocoDataset(Dataset):\n",
    "    def __init__(self, image_dir, annotation_file, transforms=None):\n",
    "        self.image_dir = image_dir\n",
    "        self.coco = COCO(annotation_file)\n",
    "        self.image_ids = list(self.coco.imgs.keys())\n",
    "        self.transforms = transforms\n",
    "\n",
    "    def __len__(self):\n",
    "        return len(self.image_ids)\n",
    "\n",
    "    def __getitem__(self, idx):\n",
    "        ''' Retrieve a single data item from the dataset at a given index (idx)'''\n",
    "        image_id = self.image_ids[idx]\n",
    "        ann_ids = self.coco.getAnnIds(imgIds=image_id)\n",
    "        annotations = self.coco.loadAnns(ann_ids)\n",
    "\n",
    "        img_info = self.coco.imgs[image_id]\n",
    "        img_path = os.path.join(self.image_dir, img_info['file_name'])\n",
    "\n",
    "\n",
    "        # Skip missing images silently\n",
    "        if not os.path.exists(img_path):\n",
    "            '''recursively calls __getitem__ again with the next index in the dataset, effectively skipping the missing image.\n",
    "        The modulo operator (%) ensures that the index wraps around to the beginning of the dataset if it reaches the end. It creates a circular indexing behavior,\n",
    "        allowing the data loader to cycle through the dataset continuously.This is a common pattern in data loading and processing for machine learn'''\n",
    "\n",
    "            return self.__getitem__((idx + 1) % len(self.image_ids))\n",
    "\n",
    "        try:\n",
    "            image = Image.open(img_path).convert(\"RGB\")\n",
    "        except:\n",
    "            return self.__getitem__((idx + 1) % len(self.image_ids))\n",
    "\n",
    "        image = np.array(image)\n",
    "\n",
    "        height, width = img_info['height'], img_info['width']\n",
    "        mask = np.zeros((height, width), dtype=np.uint8)\n",
    "\n",
    "        boxes, labels, masks = [], [], []\n",
    "\n",
    "        for ann in annotations:\n",
    "            category_id = ann['category_id']\n",
    "            segmentation = ann['segmentation']\n",
    "            bbox = ann['bbox']\n",
    "\n",
    "            x_min, y_min, w, h = bbox\n",
    "            x_max, y_max = x_min + w, y_min + h\n",
    "            boxes.append([x_min, y_min, x_max, y_max])\n",
    "            labels.append(category_id)\n",
    "\n",
    "            mask_temp = np.zeros((height, width), dtype=np.uint8)\n",
    "            for seg in segmentation:\n",
    "                poly = np.array(seg, np.int32).reshape((-1, 2))\n",
    "                cv2.fillPoly(mask_temp, [poly], 1)\n",
    "\n",
    "            masks.append(mask_temp)\n",
    "\n",
    "        boxes = torch.as_tensor(boxes, dtype=torch.float32)\n",
    "        labels = torch.as_tensor(labels, dtype=torch.int64)\n",
    "        masks = torch.as_tensor(np.array(masks), dtype=torch.uint8)\n",
    "\n",
    "        target = {\"boxes\": boxes, \"labels\": labels, \"masks\": masks}\n",
    "\n",
    "        if self.transforms:\n",
    "            image = self.transforms(image)\n",
    "\n",
    "        return image, target"
   ]
  },
  {
   "cell_type": "markdown",
   "metadata": {
    "id": "_OTiEPvBx70a"
   },
   "source": [
    "Training and evaluating functions..."
   ]
  },
  {
   "cell_type": "code",
   "execution_count": null,
   "metadata": {
    "id": "fuofNLoix2-B"
   },
   "outputs": [],
   "source": [
    "# Model Setup\n",
    "'''prepares the Mask R-CNN model to be fine-tuned on a custom dataset for object detection and instance segmentation tasks.'''\n",
    "def get_model(num_classes):\n",
    "    model = maskrcnn_resnet50_fpn(pretrained=True)\n",
    "\n",
    "    model.roi_heads.detections_per_img = 1000  # Remove limit on detections\n",
    "\n",
    "    in_features = model.roi_heads.box_predictor.cls_score.in_features\n",
    "    model.roi_heads.box_predictor = FastRCNNPredictor(in_features, num_classes)\n",
    "\n",
    "    in_channels_mask = model.roi_heads.mask_predictor.conv5_mask.in_channels\n",
    "    model.roi_heads.mask_predictor = MaskRCNNPredictor(in_channels_mask, 256 , num_classes)\n",
    "\n",
    "    return model\n",
    "\n",
    "# Training Function\n",
    "def train_one_epoch(model, optimizer, train_loader):\n",
    "    model.train()\n",
    "    epoch_loss = 0\n",
    "    progress_bar = tqdm(train_loader, desc=\"Training\", leave=False)\n",
    "\n",
    "    for images, targets in progress_bar:\n",
    "        images = [img.to(device) for img in images]\n",
    "        targets = [{k: v.to(device) for k, v in t.items()} for t in targets]\n",
    "\n",
    "        loss_dict = model(images, targets)\n",
    "        losses = sum(loss for loss in loss_dict.values())\n",
    "\n",
    "        optimizer.zero_grad()\n",
    "        losses.backward()\n",
    "        optimizer.step()\n",
    "\n",
    "        epoch_loss += losses.item()\n",
    "        progress_bar.set_postfix(loss=losses.item())\n",
    "\n",
    "    return epoch_loss / len(train_loader)\n",
    "\n",
    "# Evaluation Function\n",
    "@torch.no_grad()\n",
    "def evaluate(model, val_loader):\n",
    "    model.train()\n",
    "    total_loss = 0\n",
    "    progress_bar = tqdm(val_loader, desc=\"Validating\", leave=False)\n",
    "\n",
    "    for images, targets in progress_bar:\n",
    "        images = [img.to(device) for img in images]\n",
    "        targets = [{k: v.to(device) for k, v in t.items()} for t in targets]\n",
    "\n",
    "        loss_dict = model(images, targets)\n",
    "        loss = sum(loss for loss in loss_dict.values())\n",
    "        total_loss += loss.item()\n",
    "\n",
    "    return total_loss / len(val_loader)\n",
    "\n",
    "# Compute IoU for Test Dataset\n",
    "@torch.no_grad()\n",
    "def compute_iou(model, test_loader, iou_threshold=0.5):\n",
    "    model.eval()\n",
    "    ious = []\n",
    "\n",
    "    for images, targets in tqdm(test_loader, desc=\"Computing IoU\"):\n",
    "        images = [img.to(device) for img in images]\n",
    "        targets = [{k: v.to(device) for k, v in t.items()} for t in targets]\n",
    "\n",
    "        predictions = model(images)\n",
    "\n",
    "        for pred, target in zip(predictions, targets):\n",
    "            ious.append(box_iou(pred[\"boxes\"], target[\"boxes\"]).max().item())\n",
    "\n",
    "    return np.mean(ious) if ious else 0\n",
    "\n",
    "# Compute mAP for Test Dataset\n",
    "@torch.no_grad()\n",
    "def compute_map(model, test_loader, iou_threshold=0.95):\n",
    "    model.eval()\n",
    "    all_preds, all_gts = [], []\n",
    "\n",
    "    for images, targets in tqdm(test_loader, desc=\"Computing mAP\"):\n",
    "        images = [img.to(device) for img in images]\n",
    "        targets = [{k: v.to(device) for k, v in t.items()} for t in targets]\n",
    "\n",
    "        predictions = model(images)\n",
    "        for pred, target in zip(predictions, targets):\n",
    "            all_preds.append(pred[\"boxes\"].cpu().numpy())\n",
    "            all_gts.append(target[\"boxes\"].cpu().numpy())\n",
    "\n",
    "    return np.mean([box_iou(torch.tensor(p), torch.tensor(g)).max().item() for p, g in zip(all_preds, all_gts)]) if all_preds else 0\n",
    "\n",
    "# Visualize the confusion matrix\n",
    "@torch.no_grad()\n",
    "def compute_confusion_matrix(model, test_loader, iou_threshold=0.5):\n",
    "    model.eval()\n",
    "    model.roi_heads.detections_per_img = 1000\n",
    "    TP, FP, FN = 0, 0, 0  # Initialize counts\n",
    "\n",
    "    for images, targets in test_loader:\n",
    "        images = [img.to(device) for img in images]\n",
    "        targets = [{k: v.to(device) for k, v in t.items()} for t in targets]\n",
    "        predictions = model(images)\n",
    "\n",
    "        for pred, target in zip(predictions, targets):\n",
    "            gt_boxes = target[\"boxes\"]\n",
    "            pred_boxes = pred[\"boxes\"]\n",
    "            pred_scores = pred[\"scores\"]\n",
    "\n",
    "            if len(gt_boxes) == 0 and len(pred_boxes) == 0:\n",
    "                continue  # No objects in GT or predictions\n",
    "\n",
    "            if len(pred_boxes) == 0 and len(gt_boxes) > 0:\n",
    "                FN += len(gt_boxes)\n",
    "                continue\n",
    "\n",
    "            if len(gt_boxes) == 0 and len(pred_boxes) > 0:\n",
    "                FP += len(pred_boxes)\n",
    "                continue\n",
    "\n",
    "            # Compute IoU between predicted and ground truth boxes\n",
    "            ious = box_iou(pred_boxes, gt_boxes)  # Shape: [num_pred, num_gt]\n",
    "\n",
    "            # Find best matches\n",
    "            pred_matched_iou, pred_matched_gt_idx = ious.max(dim=1)  # Max IoU per predicted box\n",
    "            gt_matched_iou, gt_matched_pred_idx = ious.max(dim=0)  # Max IoU per ground truth box\n",
    "\n",
    "            # True Positives: Predictions with IoU >= threshold\n",
    "            tp_mask = pred_matched_iou >= iou_threshold\n",
    "            TP += tp_mask.sum().item()\n",
    "\n",
    "            # False Positives: Predictions that do not match any ground truth\n",
    "            FP += (~tp_mask).sum().item()\n",
    "\n",
    "            # False Negatives: Ground truth objects that were not matched\n",
    "            fn_mask = gt_matched_iou < iou_threshold\n",
    "            FN += fn_mask.sum().item()\n",
    "\n",
    "    # Create Confusion Matrix\n",
    "    confusion_matrix = np.array([[TP, FN], [FP, 0]])\n",
    "\n",
    "    # Plot Confusion Matrix\n",
    "    plt.figure(figsize=(5,4))\n",
    "    sns.heatmap(confusion_matrix, annot=True, fmt=\"d\", cmap=\"Blues\",\n",
    "                xticklabels=[\"Detected\", \"Missed\"], yticklabels=[\"Correct\", \"Wrong\"])\n",
    "    plt.xlabel(\"Predicted\")\n",
    "    plt.ylabel(\"Actual\")\n",
    "    plt.title(\"Confusion Matrix\")\n",
    "    plt.show()\n",
    "\n",
    "    return TP, FP, FN\n",
    "\n"
   ]
  },
  {
   "cell_type": "markdown",
   "metadata": {
    "id": "MrOIXZzFyW73"
   },
   "source": [
    "Let's train the model..."
   ]
  },
  {
   "cell_type": "code",
   "execution_count": null,
   "metadata": {
    "colab": {
     "base_uri": "https://localhost:8080/",
     "height": 1000
    },
    "executionInfo": {
     "elapsed": 2119296,
     "status": "ok",
     "timestamp": 1741199373126,
     "user": {
      "displayName": "Toky Fanantenana Andriamihajasoa",
      "userId": "06584514864575916788"
     },
     "user_tz": 480
    },
    "id": "uTRO6aqwHHdb",
    "outputId": "499a0301-a55c-465e-d7e6-c3868dde59fc"
   },
   "outputs": [
    {
     "name": "stdout",
     "output_type": "stream",
     "text": [
      "loading annotations into memory...\n",
      "Done (t=3.18s)\n",
      "creating index...\n",
      "index created!\n"
     ]
    },
    {
     "name": "stderr",
     "output_type": "stream",
     "text": [
      "Computing IoU: 100%|██████████| 12/12 [00:10<00:00,  1.18it/s]\n",
      "Computing mAP: 100%|██████████| 12/12 [00:10<00:00,  1.18it/s]\n"
     ]
    },
    {
     "name": "stdout",
     "output_type": "stream",
     "text": [
      "Epoch 1/20 - Train Loss: 3.8240, Val Loss: 2.3175, IoU: 0.3461, mAP: 0.3461\n"
     ]
    },
    {
     "name": "stderr",
     "output_type": "stream",
     "text": [
      "Computing IoU: 100%|██████████| 12/12 [00:15<00:00,  1.28s/it]\n",
      "Computing mAP: 100%|██████████| 12/12 [00:15<00:00,  1.30s/it]\n"
     ]
    },
    {
     "name": "stdout",
     "output_type": "stream",
     "text": [
      "Epoch 2/20 - Train Loss: 2.5750, Val Loss: 2.5678, IoU: 0.8284, mAP: 0.8284\n"
     ]
    },
    {
     "name": "stderr",
     "output_type": "stream",
     "text": [
      "Computing IoU: 100%|██████████| 12/12 [00:18<00:00,  1.51s/it]\n",
      "Computing mAP: 100%|██████████| 12/12 [00:18<00:00,  1.51s/it]\n"
     ]
    },
    {
     "name": "stdout",
     "output_type": "stream",
     "text": [
      "Epoch 3/20 - Train Loss: 2.5868, Val Loss: 2.3495, IoU: 0.8030, mAP: 0.8030\n"
     ]
    },
    {
     "name": "stderr",
     "output_type": "stream",
     "text": [
      "Computing IoU: 100%|██████████| 12/12 [00:12<00:00,  1.02s/it]\n",
      "Computing mAP: 100%|██████████| 12/12 [00:12<00:00,  1.02s/it]\n"
     ]
    },
    {
     "name": "stdout",
     "output_type": "stream",
     "text": [
      "Epoch 4/20 - Train Loss: 2.0758, Val Loss: 1.7526, IoU: 0.8651, mAP: 0.8651\n"
     ]
    },
    {
     "name": "stderr",
     "output_type": "stream",
     "text": [
      "Computing IoU: 100%|██████████| 12/12 [00:11<00:00,  1.00it/s]\n",
      "Computing mAP: 100%|██████████| 12/12 [00:11<00:00,  1.00it/s]\n"
     ]
    },
    {
     "name": "stdout",
     "output_type": "stream",
     "text": [
      "Epoch 5/20 - Train Loss: 1.5787, Val Loss: 1.5280, IoU: 0.9418, mAP: 0.9418\n"
     ]
    },
    {
     "name": "stderr",
     "output_type": "stream",
     "text": [
      "Computing IoU: 100%|██████████| 12/12 [00:11<00:00,  1.01it/s]\n",
      "Computing mAP: 100%|██████████| 12/12 [00:11<00:00,  1.01it/s]\n"
     ]
    },
    {
     "name": "stdout",
     "output_type": "stream",
     "text": [
      "Epoch 6/20 - Train Loss: 1.3055, Val Loss: 1.1768, IoU: 0.9515, mAP: 0.9515\n"
     ]
    },
    {
     "name": "stderr",
     "output_type": "stream",
     "text": [
      "Computing IoU: 100%|██████████| 12/12 [00:11<00:00,  1.01it/s]\n",
      "Computing mAP: 100%|██████████| 12/12 [00:11<00:00,  1.00it/s]\n"
     ]
    },
    {
     "name": "stdout",
     "output_type": "stream",
     "text": [
      "Epoch 7/20 - Train Loss: 1.0806, Val Loss: 0.9626, IoU: 0.9692, mAP: 0.9692\n"
     ]
    },
    {
     "name": "stderr",
     "output_type": "stream",
     "text": [
      "Computing IoU: 100%|██████████| 12/12 [00:11<00:00,  1.01it/s]\n",
      "Computing mAP: 100%|██████████| 12/12 [00:11<00:00,  1.02it/s]\n"
     ]
    },
    {
     "name": "stdout",
     "output_type": "stream",
     "text": [
      "Epoch 8/20 - Train Loss: 0.9190, Val Loss: 0.8865, IoU: 0.9651, mAP: 0.9651\n"
     ]
    },
    {
     "name": "stderr",
     "output_type": "stream",
     "text": [
      "Computing IoU: 100%|██████████| 12/12 [00:12<00:00,  1.01s/it]\n",
      "Computing mAP: 100%|██████████| 12/12 [00:11<00:00,  1.01it/s]\n"
     ]
    },
    {
     "name": "stdout",
     "output_type": "stream",
     "text": [
      "Epoch 9/20 - Train Loss: 0.8191, Val Loss: 0.7166, IoU: 0.9824, mAP: 0.9824\n"
     ]
    },
    {
     "name": "stderr",
     "output_type": "stream",
     "text": [
      "Computing IoU: 100%|██████████| 12/12 [00:11<00:00,  1.01it/s]\n",
      "Computing mAP: 100%|██████████| 12/12 [00:11<00:00,  1.01it/s]\n"
     ]
    },
    {
     "name": "stdout",
     "output_type": "stream",
     "text": [
      "Epoch 10/20 - Train Loss: 0.7103, Val Loss: 0.6756, IoU: 0.9756, mAP: 0.9756\n"
     ]
    },
    {
     "name": "stderr",
     "output_type": "stream",
     "text": [
      "Computing IoU: 100%|██████████| 12/12 [00:12<00:00,  1.00s/it]\n",
      "Computing mAP: 100%|██████████| 12/12 [00:12<00:00,  1.00s/it]\n"
     ]
    },
    {
     "name": "stdout",
     "output_type": "stream",
     "text": [
      "Epoch 11/20 - Train Loss: 0.6483, Val Loss: 0.5732, IoU: 0.9865, mAP: 0.9865\n"
     ]
    },
    {
     "name": "stderr",
     "output_type": "stream",
     "text": [
      "Computing IoU: 100%|██████████| 12/12 [00:12<00:00,  1.02s/it]\n",
      "Computing mAP: 100%|██████████| 12/12 [00:12<00:00,  1.01s/it]\n"
     ]
    },
    {
     "name": "stdout",
     "output_type": "stream",
     "text": [
      "Epoch 12/20 - Train Loss: 0.5922, Val Loss: 0.5251, IoU: 0.9903, mAP: 0.9903\n"
     ]
    },
    {
     "name": "stderr",
     "output_type": "stream",
     "text": [
      "Computing IoU: 100%|██████████| 12/12 [00:12<00:00,  1.02s/it]\n",
      "Computing mAP: 100%|██████████| 12/12 [00:12<00:00,  1.01s/it]\n"
     ]
    },
    {
     "name": "stdout",
     "output_type": "stream",
     "text": [
      "Epoch 13/20 - Train Loss: 0.5592, Val Loss: 0.5233, IoU: 0.9911, mAP: 0.9911\n"
     ]
    },
    {
     "name": "stderr",
     "output_type": "stream",
     "text": [
      "Computing IoU: 100%|██████████| 12/12 [00:12<00:00,  1.01s/it]\n",
      "Computing mAP: 100%|██████████| 12/12 [00:12<00:00,  1.02s/it]\n"
     ]
    },
    {
     "name": "stdout",
     "output_type": "stream",
     "text": [
      "Epoch 14/20 - Train Loss: 0.5289, Val Loss: 0.4578, IoU: 0.9778, mAP: 0.9778\n"
     ]
    },
    {
     "name": "stderr",
     "output_type": "stream",
     "text": [
      "Computing IoU: 100%|██████████| 12/12 [00:12<00:00,  1.03s/it]\n",
      "Computing mAP: 100%|██████████| 12/12 [00:12<00:00,  1.03s/it]\n"
     ]
    },
    {
     "name": "stdout",
     "output_type": "stream",
     "text": [
      "Epoch 15/20 - Train Loss: 0.5036, Val Loss: 0.4708, IoU: 0.9928, mAP: 0.9928\n"
     ]
    },
    {
     "name": "stderr",
     "output_type": "stream",
     "text": [
      "Computing IoU: 100%|██████████| 12/12 [00:12<00:00,  1.06s/it]\n",
      "Computing mAP: 100%|██████████| 12/12 [00:12<00:00,  1.06s/it]\n"
     ]
    },
    {
     "name": "stdout",
     "output_type": "stream",
     "text": [
      "Epoch 16/20 - Train Loss: 0.4778, Val Loss: 0.4887, IoU: 0.9854, mAP: 0.9854\n"
     ]
    },
    {
     "name": "stderr",
     "output_type": "stream",
     "text": [
      "Computing IoU: 100%|██████████| 12/12 [00:12<00:00,  1.04s/it]\n",
      "Computing mAP: 100%|██████████| 12/12 [00:12<00:00,  1.04s/it]\n"
     ]
    },
    {
     "name": "stdout",
     "output_type": "stream",
     "text": [
      "Epoch 17/20 - Train Loss: 0.4509, Val Loss: 0.4197, IoU: 0.9864, mAP: 0.9864\n"
     ]
    },
    {
     "name": "stderr",
     "output_type": "stream",
     "text": [
      "Computing IoU: 100%|██████████| 12/12 [00:12<00:00,  1.03s/it]\n",
      "Computing mAP: 100%|██████████| 12/12 [00:12<00:00,  1.04s/it]\n"
     ]
    },
    {
     "name": "stdout",
     "output_type": "stream",
     "text": [
      "Epoch 18/20 - Train Loss: 0.4382, Val Loss: 0.3930, IoU: 0.9826, mAP: 0.9826\n"
     ]
    },
    {
     "name": "stderr",
     "output_type": "stream",
     "text": [
      "Computing IoU: 100%|██████████| 12/12 [00:12<00:00,  1.05s/it]\n",
      "Computing mAP: 100%|██████████| 12/12 [00:12<00:00,  1.05s/it]\n"
     ]
    },
    {
     "name": "stdout",
     "output_type": "stream",
     "text": [
      "Epoch 19/20 - Train Loss: 0.4186, Val Loss: 0.3882, IoU: 0.9862, mAP: 0.9862\n"
     ]
    },
    {
     "name": "stderr",
     "output_type": "stream",
     "text": [
      "Computing IoU: 100%|██████████| 12/12 [00:12<00:00,  1.05s/it]\n",
      "Computing mAP: 100%|██████████| 12/12 [00:12<00:00,  1.05s/it]\n"
     ]
    },
    {
     "name": "stdout",
     "output_type": "stream",
     "text": [
      "Epoch 20/20 - Train Loss: 0.4139, Val Loss: 0.3826, IoU: 0.9799, mAP: 0.9799\n"
     ]
    },
    {
     "data": {
      "image/png": "[encoded data removed]",
      "text/plain": [
       "<Figure size 640x480 with 1 Axes>"
      ]
     },
     "metadata": {},
     "output_type": "display_data"
    },
    {
     "data": {
      "image/png": "[encoded data removed]",
      "text/plain": [
       "<Figure size 640x480 with 1 Axes>"
      ]
     },
     "metadata": {},
     "output_type": "display_data"
    },
    {
     "data": {
      "image/png": "[encoded data removed]",
      "text/plain": [
       "<Figure size 640x480 with 1 Axes>"
      ]
     },
     "metadata": {},
     "output_type": "display_data"
    }
   ],
   "source": [
    "# Dataset Paths\n",
    "image_dir = \"data\\raw\\original\"\n",
    "annotation_file = \"data\\raw\\instances.json\"\n",
    "transform = transforms.Compose([transforms.ToTensor()])\n",
    "\n",
    "# Load Dataset\n",
    "dataset = CustomCocoDataset(image_dir, annotation_file, transforms=transform)\n",
    "\n",
    "# Split Dataset\n",
    "train_size, val_size = int(0.7 * len(dataset)), int(0.2 * len(dataset))\n",
    "test_size = len(dataset) - train_size - val_size\n",
    "train_dataset, val_dataset, test_dataset = random_split(dataset, [train_size, val_size, test_size])\n",
    "\n",
    "# Dataloaders\n",
    "train_loader = DataLoader(train_dataset, batch_size=5, shuffle=True, collate_fn=lambda x: tuple(zip(*x)))\n",
    "val_loader = DataLoader(val_dataset, batch_size=5, shuffle=False, collate_fn=lambda x: tuple(zip(*x)))\n",
    "test_loader = DataLoader(test_dataset, batch_size=5, shuffle=False, collate_fn=lambda x: tuple(zip(*x)))\n",
    "\n",
    "# Training Setup\n",
    "num_classes = 2\n",
    "device = torch.device(\"cuda\" if torch.cuda.is_available() else \"cpu\")\n",
    "model = get_model(num_classes).to(device)\n",
    "optimizer = torch.optim.Adam(model.parameters(), lr=0.001)\n",
    "num_epochs = 20\n",
    "\n",
    "train_losses, val_losses, iou_scores, map_scores = [], [], [], []\n",
    "best_iou, best_model_path = 0, None\n",
    "\n",
    "# Training Loop\n",
    "for epoch in range(num_epochs):\n",
    "    train_loss = train_one_epoch(model, optimizer, train_loader)\n",
    "    val_loss = evaluate(model, val_loader)\n",
    "    iou_score = compute_iou(model, test_loader)\n",
    "    map_score = compute_map(model, test_loader)\n",
    "\n",
    "    train_losses.append(train_loss)\n",
    "    val_losses.append(val_loss)\n",
    "    iou_scores.append(iou_score)\n",
    "    map_scores.append(map_score)\n",
    "\n",
    "    # Save model\n",
    "    model_path = f\"mask_rcnn_epoch_{epoch+1}.pth\"\n",
    "    torch.save(model.state_dict(), model_path)\n",
    "\n",
    "    if iou_score > best_iou:\n",
    "        best_iou = iou_score\n",
    "        best_model_path = model_path\n",
    "\n",
    "    print(f\"Epoch {epoch+1}/{num_epochs} - Train Loss: {train_loss:.4f}, Val Loss: {val_loss:.4f}, IoU: {iou_score:.4f}, mAP: {map_score:.4f}\")\n",
    "\n",
    "# Plot Loss and IoU\n",
    "plt.figure()\n",
    "plt.plot(range(1, num_epochs+1), train_losses, label=\"Train Loss\")\n",
    "plt.plot(range(1, num_epochs+1), val_losses, label=\"Val Loss\")\n",
    "plt.xlabel(\"Epoch\")\n",
    "plt.ylabel(\"Loss\")\n",
    "plt.legend()\n",
    "plt.grid()\n",
    "plt.show()\n",
    "\n",
    "plt.figure()\n",
    "plt.plot(range(1, num_epochs+1), iou_scores, label=\"IoU\")\n",
    "plt.xlabel(\"Epoch\")\n",
    "plt.ylabel(\"IoU Score\")\n",
    "plt.legend()\n",
    "plt.show()\n",
    "\n",
    "plt.figure()\n",
    "plt.plot(range(1, num_epochs+1), map_scores, label=\"mAP\")\n",
    "plt.xlabel(\"Epoch\")\n",
    "plt.ylabel(\"mAP\")\n",
    "plt.legend()\n",
    "plt.grid()\n",
    "plt.show()\n",
    "\n",
    "\n",
    "\n"
   ]
  },
  {
   "cell_type": "markdown",
   "metadata": {
    "id": "C4boGAY8zFtn"
   },
   "source": [
    "Confusion matrix..."
   ]
  },
  {
   "cell_type": "code",
   "execution_count": null,
   "metadata": {
    "colab": {
     "base_uri": "https://localhost:8080/",
     "height": 427
    },
    "executionInfo": {
     "elapsed": 12743,
     "status": "ok",
     "timestamp": 1741199960424,
     "user": {
      "displayName": "Toky Fanantenana Andriamihajasoa",
      "userId": "06584514864575916788"
     },
     "user_tz": 480
    },
    "id": "377-rRFwPhCb",
    "outputId": "a2fc110a-83df-4340-ac3c-aca21352358e"
   },
   "outputs": [
    {
     "data": {
      "image/png": "[encoded data removed]",
      "text/plain": [
       "<Figure size 500x400 with 2 Axes>"
      ]
     },
     "metadata": {},
     "output_type": "display_data"
    },
    {
     "data": {
      "text/plain": [
       "(8000, 171, 7762)"
      ]
     },
     "execution_count": 21,
     "metadata": {},
     "output_type": "execute_result"
    }
   ],
   "source": [
    "compute_confusion_matrix(model, test_loader, iou_threshold=0.5)"
   ]
  }
 ],
 "metadata": {
  "colab": {
   "authorship_tag": "ABX9TyOTRT5fxi65TafoT75fpU7i",
   "gpuType": "A100",
   "machine_shape": "hm",
   "provenance": []
  },
  "kernelspec": {
   "display_name": "Python 3",
   "name": "python3"
  },
  "language_info": {
   "name": "python"
  }
 },
 "nbformat": 4,
 "nbformat_minor": 0
}
